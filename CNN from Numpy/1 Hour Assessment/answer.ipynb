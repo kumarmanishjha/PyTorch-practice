{
 "cells": [
  {
   "cell_type": "code",
   "execution_count": 1,
   "metadata": {},
   "outputs": [],
   "source": [
    "from PIL import Image\n",
    "import numpy as np\n",
    "from numpy import asarray"
   ]
  },
  {
   "cell_type": "code",
   "execution_count": 40,
   "metadata": {},
   "outputs": [],
   "source": [
    "def your_answer(img, filterXX):\n",
    "    \"\"\"Answer here\"\"\"\n",
    "    #Minmax normalization assuming 0 min and 255 max values\n",
    "    imin = np.amin(image)\n",
    "    imax = np.amax(image)\n",
    "    img = (img - imin)/(imax - imin)\n",
    "    \n",
    "    \n",
    "    #Convolution, assuming stride= filter size\n",
    "    \n",
    "    #Apply padding to image\n",
    "    padding = 1\n",
    "    img_padded = np.zeros((img.shape[0] + padding*2, img.shape[1] + padding*2)) #Create placeholder image with zero padding\n",
    "    img_padded[int(padding):int(-1 * padding), int(padding):int(-1 * padding)] = image #Replace inner values with image\n",
    "    #print(img_padded)\n",
    "    \n",
    "    #Convolution operation\n",
    "    filter_size = filterXX.shape[0]\n",
    "    stride = filter_size\n",
    "    #Shape of feature maxp\n",
    "    x_size = int(((img.shape[0] - filter_size + 2 * padding) / strides) + 1)\n",
    "    y_size = int(((img.shape[1] - filter_size + 2 * padding) / strides) + 1)\n",
    "    fmap = np.zeros((x_size, y_size))\n",
    "    for y in range(img.shape[1]):\n",
    "        if y > img.shape[1] - filter_size:\n",
    "            break\n",
    "        if y % stride == 0:\n",
    "            for x in range(img.shape[0]):\n",
    "                if x > img.shape[0] - filter_size:\n",
    "                    break\n",
    "                if x % strides == 0:\n",
    "                    fmap[x, y] = (filterXX * img_padded[x: x + filter_size, y: y + filter_size]).sum()\n",
    "\n",
    "    print('Feature map' +str(fmap))\n",
    "    print('Feature map shape' +str(fmap.shape))\n",
    "                    \n",
    "    #Pooling\n",
    "    pool_window = (2,2)\n",
    "    pool_size = 2\n",
    "    pool_out = np.zeros(np.int64((fmap.shape[0]-pool_size+1)/stride), np.int64((fmap.shape[1]-pool_size+1)/stride))\n",
    "    for i in range(fmap.shape[-1]):\n",
    "        row = 0\n",
    "        for r in np.arange(0,fmap.shape[0]-pool_size-1, stride):\n",
    "            col = 0\n",
    "            for c in np.arange(0, fmap.shape[1]-pool_size-1, stride):\n",
    "                pool_out[row, col,  i] = np.max([fmap[r:r+pool_size,  c:c+pool_size,  i]])\n",
    "                col = col + 1\n",
    "            row = row +1\n",
    "            \n",
    "    print('Pooling output' +str(pool_out))\n",
    "    print('Pooled shape' +str(pool_out.shape))\n",
    "\n",
    "    "
   ]
  },
  {
   "cell_type": "code",
   "execution_count": 41,
   "metadata": {},
   "outputs": [
    {
     "name": "stdout",
     "output_type": "stream",
     "text": [
      "[[246 246 246 ...   7   7   7]\n",
      " [246 246 246 ...   7   7   7]\n",
      " [246 246 246 ...   7   7   7]\n",
      " ...\n",
      " [106 106 106 ...  43  43  43]\n",
      " [103 103 103 ...  43  43  43]\n",
      " [101 101 101 ...  43  43  43]]\n",
      "Feature map[[ 984.    0.    0. ...    0.    0.    0.]\n",
      " [1476.    0.    0. ...    0.    0.    0.]\n",
      " [1476.    0.    0. ...    0.    0.    0.]\n",
      " ...\n",
      " [ 634.    0.    0. ...    0.    0.    0.]\n",
      " [   0.    0.    0. ...    0.    0.    0.]\n",
      " [   0.    0.    0. ...    0.    0.    0.]]\n",
      "Feature map shape(720, 1280)\n"
     ]
    },
    {
     "ename": "IndexError",
     "evalue": "too many indices for array",
     "output_type": "error",
     "traceback": [
      "\u001b[1;31m---------------------------------------------------------------------------\u001b[0m",
      "\u001b[1;31mIndexError\u001b[0m                                Traceback (most recent call last)",
      "\u001b[1;32m<ipython-input-41-38a1180f4a28>\u001b[0m in \u001b[0;36m<module>\u001b[1;34m\u001b[0m\n\u001b[0;32m      4\u001b[0m     \u001b[0mfilter33\u001b[0m \u001b[1;33m=\u001b[0m \u001b[0mnp\u001b[0m\u001b[1;33m.\u001b[0m\u001b[0mones\u001b[0m\u001b[1;33m(\u001b[0m\u001b[1;33m(\u001b[0m\u001b[1;36m3\u001b[0m\u001b[1;33m,\u001b[0m\u001b[1;36m3\u001b[0m\u001b[1;33m)\u001b[0m\u001b[1;33m)\u001b[0m\u001b[1;33m\u001b[0m\u001b[1;33m\u001b[0m\u001b[0m\n\u001b[0;32m      5\u001b[0m \u001b[1;33m\u001b[0m\u001b[0m\n\u001b[1;32m----> 6\u001b[1;33m     \u001b[0myour_answer\u001b[0m\u001b[1;33m(\u001b[0m\u001b[0mimage\u001b[0m\u001b[1;33m,\u001b[0m \u001b[0mfilter33\u001b[0m\u001b[1;33m)\u001b[0m\u001b[1;33m\u001b[0m\u001b[1;33m\u001b[0m\u001b[0m\n\u001b[0m",
      "\u001b[1;32m<ipython-input-40-f6dd5859ad0d>\u001b[0m in \u001b[0;36myour_answer\u001b[1;34m(img, filterXX)\u001b[0m\n\u001b[0;32m     44\u001b[0m             \u001b[0mcol\u001b[0m \u001b[1;33m=\u001b[0m \u001b[1;36m0\u001b[0m\u001b[1;33m\u001b[0m\u001b[1;33m\u001b[0m\u001b[0m\n\u001b[0;32m     45\u001b[0m             \u001b[1;32mfor\u001b[0m \u001b[0mc\u001b[0m \u001b[1;32min\u001b[0m \u001b[0mnp\u001b[0m\u001b[1;33m.\u001b[0m\u001b[0marange\u001b[0m\u001b[1;33m(\u001b[0m\u001b[1;36m0\u001b[0m\u001b[1;33m,\u001b[0m \u001b[0mfmap\u001b[0m\u001b[1;33m.\u001b[0m\u001b[0mshape\u001b[0m\u001b[1;33m[\u001b[0m\u001b[1;36m1\u001b[0m\u001b[1;33m]\u001b[0m\u001b[1;33m-\u001b[0m\u001b[0mpool_size\u001b[0m\u001b[1;33m-\u001b[0m\u001b[1;36m1\u001b[0m\u001b[1;33m,\u001b[0m \u001b[0mstride\u001b[0m\u001b[1;33m)\u001b[0m\u001b[1;33m:\u001b[0m\u001b[1;33m\u001b[0m\u001b[1;33m\u001b[0m\u001b[0m\n\u001b[1;32m---> 46\u001b[1;33m                 \u001b[0mpool_out\u001b[0m\u001b[1;33m[\u001b[0m\u001b[0mrow\u001b[0m\u001b[1;33m,\u001b[0m \u001b[0mcol\u001b[0m\u001b[1;33m,\u001b[0m  \u001b[0mi\u001b[0m\u001b[1;33m]\u001b[0m \u001b[1;33m=\u001b[0m \u001b[0mnp\u001b[0m\u001b[1;33m.\u001b[0m\u001b[0mmax\u001b[0m\u001b[1;33m(\u001b[0m\u001b[1;33m[\u001b[0m\u001b[0mfmap\u001b[0m\u001b[1;33m[\u001b[0m\u001b[0mr\u001b[0m\u001b[1;33m:\u001b[0m\u001b[0mr\u001b[0m\u001b[1;33m+\u001b[0m\u001b[0mpool_size\u001b[0m\u001b[1;33m,\u001b[0m  \u001b[0mc\u001b[0m\u001b[1;33m:\u001b[0m\u001b[0mc\u001b[0m\u001b[1;33m+\u001b[0m\u001b[0mpool_size\u001b[0m\u001b[1;33m,\u001b[0m  \u001b[0mi\u001b[0m\u001b[1;33m]\u001b[0m\u001b[1;33m]\u001b[0m\u001b[1;33m)\u001b[0m\u001b[1;33m\u001b[0m\u001b[1;33m\u001b[0m\u001b[0m\n\u001b[0m\u001b[0;32m     47\u001b[0m                 \u001b[0mcol\u001b[0m \u001b[1;33m=\u001b[0m \u001b[0mcol\u001b[0m \u001b[1;33m+\u001b[0m \u001b[1;36m1\u001b[0m\u001b[1;33m\u001b[0m\u001b[1;33m\u001b[0m\u001b[0m\n\u001b[0;32m     48\u001b[0m             \u001b[0mrow\u001b[0m \u001b[1;33m=\u001b[0m \u001b[0mrow\u001b[0m \u001b[1;33m+\u001b[0m\u001b[1;36m1\u001b[0m\u001b[1;33m\u001b[0m\u001b[1;33m\u001b[0m\u001b[0m\n",
      "\u001b[1;31mIndexError\u001b[0m: too many indices for array"
     ]
    }
   ],
   "source": [
    "if __name__ == \"__main__\":\n",
    "    image = asarray(Image.open(\"image.jpg\").convert('L'))\n",
    "    print(image)\n",
    "    filter33 = np.ones((3,3))\n",
    "    \n",
    "    your_answer(image, filter33)"
   ]
  },
  {
   "cell_type": "code",
   "execution_count": null,
   "metadata": {},
   "outputs": [],
   "source": []
  }
 ],
 "metadata": {
  "kernelspec": {
   "display_name": "Python 3",
   "language": "python",
   "name": "python3"
  },
  "language_info": {
   "codemirror_mode": {
    "name": "ipython",
    "version": 3
   },
   "file_extension": ".py",
   "mimetype": "text/x-python",
   "name": "python",
   "nbconvert_exporter": "python",
   "pygments_lexer": "ipython3",
   "version": "3.7.9"
  }
 },
 "nbformat": 4,
 "nbformat_minor": 4
}
