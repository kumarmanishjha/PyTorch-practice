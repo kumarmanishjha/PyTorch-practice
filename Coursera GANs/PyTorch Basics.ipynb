{
 "cells": [
  {
   "cell_type": "code",
   "execution_count": 8,
   "metadata": {},
   "outputs": [],
   "source": [
    "import torch\n",
    "from torch import nn"
   ]
  },
  {
   "cell_type": "code",
   "execution_count": 9,
   "metadata": {},
   "outputs": [],
   "source": [
    "class LogisticRegression(nn.Module):\n",
    "    def __init__(self, n_input):\n",
    "        #in  = number of input layers\n",
    "        super().__init__()\n",
    "        self.log_reg = nn.Sequential(\n",
    "        nn.Linear(n_input, 1),\n",
    "        nn.Sigmoid())\n",
    "        \n",
    "    #Forward computation\n",
    "    def forward(self, x):\n",
    "        return self.log_reg(x)\n",
    "    "
   ]
  },
  {
   "cell_type": "code",
   "execution_count": 10,
   "metadata": {},
   "outputs": [],
   "source": [
    "model = LogisticRegression(16) #Initialize network"
   ]
  },
  {
   "cell_type": "code",
   "execution_count": 13,
   "metadata": {},
   "outputs": [
    {
     "data": {
      "text/plain": [
       "torch.nn.modules.container.Sequential"
      ]
     },
     "execution_count": 13,
     "metadata": {},
     "output_type": "execute_result"
    }
   ],
   "source": [
    "type(model.log_reg)"
   ]
  },
  {
   "cell_type": "code",
   "execution_count": 6,
   "metadata": {},
   "outputs": [],
   "source": [
    "criterion = nn.BCELoss() #Cost function"
   ]
  },
  {
   "cell_type": "code",
   "execution_count": 7,
   "metadata": {},
   "outputs": [],
   "source": [
    "optimizer = torch.optim.SGD(model.parameters(), lr = 0.01) #optimizer"
   ]
  },
  {
   "cell_type": "code",
   "execution_count": null,
   "metadata": {},
   "outputs": [],
   "source": [
    "#Training loop\n",
    "for t in range(n_epochs):\n",
    "    #Calculate predictions\n",
    "    y_pred = model(x)\n",
    "    \n",
    "    #Calculate loss\n",
    "    loss = criterion(y_pred, y)\n",
    "    \n",
    "    #Backprop and optimize weights\n",
    "    optimizer.zero_grad() #Zero weights every epoch\n",
    "    loss.backward()   #Computer gradient in backprop \n",
    "    optimizer.step()  #Take step in direction of gradient with the learning rate and update parameters"
   ]
  }
 ],
 "metadata": {
  "kernelspec": {
   "display_name": "Python 3",
   "language": "python",
   "name": "python3"
  },
  "language_info": {
   "codemirror_mode": {
    "name": "ipython",
    "version": 3
   },
   "file_extension": ".py",
   "mimetype": "text/x-python",
   "name": "python",
   "nbconvert_exporter": "python",
   "pygments_lexer": "ipython3",
   "version": "3.7.9"
  }
 },
 "nbformat": 4,
 "nbformat_minor": 4
}
